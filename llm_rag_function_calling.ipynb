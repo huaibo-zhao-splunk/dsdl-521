{
 "cells": [
  {
   "cell_type": "markdown",
   "metadata": {},
   "source": [
    "# LLM with Function Calling"
   ]
  },
  {
   "cell_type": "markdown",
   "metadata": {},
   "source": [
    "Example Usage: | makeresults\n",
    "| fit MLTKContainer algo=llm_rag_function_calling prompt=\"Search Splunk for index _internal and sourcetype splunkd for events containing keyword error from 60 minutes ago to 30 minutes ago. Tell me how many events occurred\" model_name=\"llama3\" func1=1 func2=0  _time into app:llm_rag_function_calling as RAG"
   ]
  },
  {
   "cell_type": "markdown",
   "metadata": {},
   "source": [
    "## Stage 0 - import libraries\n",
    "At stage 0 we define all imports necessary to run our subsequent code depending on various libraries."
   ]
  },
  {
   "cell_type": "code",
   "execution_count": 1,
   "metadata": {
    "deletable": false,
    "name": "mltkc_import"
   },
   "outputs": [],
   "source": [
    "# this definition exposes all python module imports that should be available in all subsequent commands\n",
    "import json\n",
    "import numpy as np\n",
    "import pandas as pd\n",
    "import os\n",
    "import pymilvus\n",
    "from pymilvus import (\n",
    "    connections,\n",
    "    utility,\n",
    "    FieldSchema, CollectionSchema, DataType,\n",
    "    Collection,\n",
    ")\n",
    "import llama_index\n",
    "from llama_index.core import VectorStoreIndex, SimpleDirectoryReader, Document, StorageContext, ServiceContext\n",
    "from llama_index.vector_stores.milvus import MilvusVectorStore\n",
    "import textwrap\n",
    "from llama_index.core.llms import ChatMessage, MessageRole\n",
    "from llama_index.core import ChatPromptTemplate\n",
    "from llama_index.core.agent import FunctionCallingAgentWorker\n",
    "from typing import Sequence, List\n",
    "from llama_index.core.tools import BaseTool, FunctionTool\n",
    "from llama_index.core.agent import AgentRunner, ReActAgentWorker\n",
    "from pydantic import Field\n",
    "from app.model.llm_utils import create_llm, create_embedding_model\n",
    "# ...\n",
    "# global constants\n",
    "MODEL_DIRECTORY = \"/srv/app/model/data/\"\n",
    "\n",
    "def search_splunk_events(\n",
    "    index: str, \n",
    "    sourcetype: str, \n",
    "    earliest_time: str, \n",
    "    latest_time: str, \n",
    "    source: str = None, \n",
    "    keyword: str =None\n",
    "):\n",
    "    '''\n",
    "    Description on input fields\n",
    "    earliest_time: Time specifier for earliest event to search, formatted like '[+|-]<time_integer><time_unit>@<time_unit>'. For example, '-12h@h' for the past 12 hours, '-5m@m' for the last 5 minutes and '-40s@s' for the last 40 seconds\n",
    "    latest_time: Time specifier for latest event search, formatted like '[+|-]<time_integer><time_unit>@<time_unit>'. For example, '-12h@h' for the past 12 hours, '-5m@m' for the last 5 minutes and '-40s@s' for the last 40 seconds. For searching events up to now, set this field to 'now'\n",
    "    '''\n",
    "    # Imports\n",
    "    import splunklib.client as splunk_client\n",
    "    import splunklib.results as splunk_results\n",
    "    import time \n",
    "    import pandas as pd\n",
    "    # Load Splunk server info and create service\n",
    "    token = os.environ[\"splunk_access_token\"]\n",
    "    host = os.environ[\"splunk_access_host\"]\n",
    "    port = os.environ[\"splunk_access_port\"]\n",
    "    service = splunk_client.connect(host=host, port=port, token=token)\n",
    "    if index is not None:\n",
    "        index = index\n",
    "    else:\n",
    "        index= ' *'\n",
    "    if source is not None:\n",
    "        source = source\n",
    "    else:\n",
    "        source = ' *'\n",
    "    if sourcetype is not None:\n",
    "        sourcetype = sourcetype\n",
    "    else:\n",
    "        sourcetype = ' *'\n",
    "    if keyword is not None:\n",
    "        keyword = keyword\n",
    "    else:\n",
    "        keyword = ' *'\n",
    "    if earliest_time is not None:\n",
    "        earliest = earliest_time\n",
    "    else:\n",
    "        earliest = '-24h@h'\n",
    "    if latest_time is not None:\n",
    "        latest = latest_time\n",
    "    else:\n",
    "        latest = \"now\"\n",
    "\n",
    "    query = f\"index={index} sourcetype={sourcetype} source={source} {keyword} earliest={earliest} latest={latest}\"\n",
    "    query_cleaned = query.strip()\n",
    "    # add search keyword before the SPL\n",
    "    query_cleaned=\"search \"+query_cleaned\n",
    "    \n",
    "    job = service.jobs.create(\n",
    "        query_cleaned,\n",
    "        earliest_time=earliest, \n",
    "        latest_time=latest, \n",
    "        adhoc_search_level=\"smart\",\n",
    "        search_mode=\"normal\")\n",
    "    while not job.is_done():\n",
    "        time.sleep(0.1)\n",
    "    resultCount = int(job.resultCount)\n",
    "    diagnostic_messages = []\n",
    "    resultset = []\n",
    "    processed = 0\n",
    "    offset = 0\n",
    "    while processed < resultCount:\n",
    "        for event in splunk_results.JSONResultsReader(job.results(output_mode='json', offset=offset, count=0)):\n",
    "            if isinstance(event, splunk_results.Message):\n",
    "                # Diagnostic messages may be returned in the results\n",
    "                diagnostic_messages.append(event.message)\n",
    "                #print('%s: %s' % (event.type, event.message))\n",
    "            elif isinstance(event, dict):\n",
    "                # Normal events are returned as dicts\n",
    "                resultset.append(event['_raw'])\n",
    "                #print(result)\n",
    "            processed += 1\n",
    "        offset = processed   \n",
    "    results = f'The list of events searched from Splunk is {str(resultset)}'\n",
    "    return results\n",
    "\n",
    "# Milvus search function\n",
    "def search_record_from_vector_db(log_message: str, collection_name: str):\n",
    "    from pymilvus import connections, Collection\n",
    "    from llama_index.embeddings.huggingface import HuggingFaceEmbedding\n",
    "    transformer_embedder = HuggingFaceEmbedding(model_name='all-MiniLM-L6-v2')\n",
    "    connections.connect(\"default\", host=\"milvus-standalone\", port=\"19530\")\n",
    "    collection = Collection(collection_name)\n",
    "    search_params = {\n",
    "        \"metric_type\": \"L2\",\n",
    "        \"params\": {\"nprobe\": 10},\n",
    "    }\n",
    "    log_message = transformer_embedder.get_text_embedding(log_message)\n",
    "    results = collection.search(data=[log_message], anns_field=\"embeddings\", param=search_params, limit=1, output_fields=[\"_key\",\"label\"])\n",
    "    l = []\n",
    "    for result in results:\n",
    "        t = \"\"\n",
    "        for r in result:\n",
    "            t += f\"For the log message {log_message}, the recorded similar log message is: {r.entity.get('label')}.\"\n",
    "        l.append(t)\n",
    "    return l[0]\n",
    "\n",
    "search_splunk_tool = FunctionTool.from_defaults(fn=search_splunk_events)\n",
    "search_record_from_vector_db_tool = FunctionTool.from_defaults(fn=search_record_from_vector_db)\n"
   ]
  },
  {
   "cell_type": "code",
   "execution_count": 2,
   "metadata": {},
   "outputs": [],
   "source": [
    "# Some logging settings \n",
    "import logging\n",
    "import sys\n",
    "import llama_index.core\n",
    "from llama_index.core.callbacks import (\n",
    "    CallbackManager,\n",
    "    LlamaDebugHandler,\n",
    "    CBEventType,\n",
    ")\n",
    "\n",
    "llama_index.core.set_global_handler(\"simple\")\n",
    "\n",
    "logging.basicConfig(stream=sys.stdout, level=logging.DEBUG)\n",
    "logging.getLogger().addHandler(logging.StreamHandler(stream=sys.stdout))\n",
    "\n",
    "llama_debug = LlamaDebugHandler(print_trace_on_end=True)\n",
    "callback_manager = CallbackManager([llama_debug])"
   ]
  },
  {
   "cell_type": "markdown",
   "metadata": {},
   "source": [
    "## Stage 1"
   ]
  },
  {
   "cell_type": "code",
   "execution_count": 6,
   "metadata": {
    "deletable": false,
    "name": "mltkc_stage"
   },
   "outputs": [],
   "source": [
    "# this cell is not executed from MLTK and should only be used for staging data into the notebook environment\n",
    "def stage(name):\n",
    "    with open(\"data/\"+name+\".csv\", 'r') as f:\n",
    "        df = pd.read_csv(f)\n",
    "    with open(\"data/\"+name+\".json\", 'r') as f:\n",
    "        param = json.load(f)\n",
    "    return df, param"
   ]
  },
  {
   "cell_type": "markdown",
   "metadata": {},
   "source": [
    "## Stage 2 - create and initialize a model"
   ]
  },
  {
   "cell_type": "code",
   "execution_count": 10,
   "metadata": {
    "deletable": false,
    "name": "mltkc_init"
   },
   "outputs": [],
   "source": [
    "# initialize your model\n",
    "# available inputs: data and parameters\n",
    "# returns the model object which will be used as a reference to call fit, apply and summary subsequently\n",
    "def init(df,param):\n",
    "    model = {}\n",
    "    model['hyperparameter'] = 42.0\n",
    "    \n",
    "    return model"
   ]
  },
  {
   "cell_type": "markdown",
   "metadata": {},
   "source": [
    "## Stage 3 - fit the model"
   ]
  },
  {
   "cell_type": "code",
   "execution_count": 19,
   "metadata": {
    "deletable": false,
    "name": "mltkc_fit"
   },
   "outputs": [],
   "source": [
    "# train your model\n",
    "# returns a fit info json object and may modify the model object\n",
    "def fit(model,df,param):\n",
    "    info = {\"message\": \"model trained\"}\n",
    "    return info"
   ]
  },
  {
   "cell_type": "code",
   "execution_count": 13,
   "metadata": {},
   "outputs": [
    {
     "name": "stdout",
     "output_type": "stream",
     "text": [
      "{'message': 'model trained'}\n"
     ]
    }
   ],
   "source": [
    "# THIS CELL IS NOT EXPORTED - free notebook cell for testing or development purposes\n",
    "print(fit(model,df,param))"
   ]
  },
  {
   "cell_type": "markdown",
   "metadata": {},
   "source": [
    "## Stage 4 - apply the model"
   ]
  },
  {
   "cell_type": "code",
   "execution_count": 4,
   "metadata": {
    "deletable": false,
    "name": "mltkc_apply"
   },
   "outputs": [],
   "source": [
    "def apply(model,df,param):\n",
    "    try:\n",
    "        query = param['options']['params']['prompt'].strip('\\\"')\n",
    "    except:\n",
    "        result = pd.DataFrame({'Message': \"ERROR: Please input a parameter \\'prompt\\'.\"})\n",
    "        return result\n",
    "    # Case of only two functions. Please customize for your own functions\n",
    "    try:\n",
    "        func1 = int(param['options']['params']['func1'])\n",
    "        func2 = int(param['options']['params']['func2'])\n",
    "    except:\n",
    "        func1 = 1\n",
    "        func2 = 1\n",
    "        \n",
    "    tool_list = []\n",
    "\n",
    "    if func1:\n",
    "        tool_list.append(search_splunk_tool)\n",
    "    if func2:\n",
    "        tool_list.append(search_record_from_vector_db_tool)\n",
    "\n",
    "    try:\n",
    "        service = param['options']['params']['llm_service'].strip(\"\\\"\")\n",
    "        print(f\"Using {service} LLM service.\")\n",
    "    except:\n",
    "        service = \"ollama\"\n",
    "        print(\"Using default Ollama LLM service.\")\n",
    "\n",
    "    try:\n",
    "        model_name = param['options']['params']['model_name'].strip(\"\\\"\")\n",
    "    except:\n",
    "        model_name = None\n",
    "        print(\"No model name specified\")\n",
    "        \n",
    "    llm, m = create_llm(service=service, model=model_name)\n",
    "\n",
    "    if llm is None:\n",
    "        cols={'Message': [m]}\n",
    "        returns=pd.DataFrame(data=cols)\n",
    "        return returns\n",
    "\n",
    "    \n",
    "    worker = ReActAgentWorker.from_tools(tool_list, llm=llm)\n",
    "    agent = AgentRunner(worker)     \n",
    "    response = agent.chat(query)\n",
    "    \n",
    "    cols = {\"Response\": [response.response]}\n",
    "    for i in range(len(response.sources)):\n",
    "        if response.sources[i].tool_name != \"unknown\":\n",
    "            cols[response.sources[i].tool_name] = [response.sources[i].content]\n",
    "    result = pd.DataFrame(data=cols)\n",
    "    return result"
   ]
  },
  {
   "cell_type": "code",
   "execution_count": null,
   "metadata": {},
   "outputs": [],
   "source": [
    "# THIS CELL IS NOT EXPORTED - free notebook cell for testing or development purposes\n",
    "print(apply(model, df, param))"
   ]
  },
  {
   "cell_type": "markdown",
   "metadata": {},
   "source": [
    "## Stage 5 - save the model"
   ]
  },
  {
   "cell_type": "code",
   "execution_count": 16,
   "metadata": {
    "deletable": false,
    "name": "mltkc_save"
   },
   "outputs": [],
   "source": [
    "# save model to name in expected convention \"<algo_name>_<model_name>\"\n",
    "def save(model,name):\n",
    "    with open(MODEL_DIRECTORY + name + \".json\", 'w') as file:\n",
    "        json.dump(model, file)\n",
    "    return model"
   ]
  },
  {
   "cell_type": "markdown",
   "metadata": {},
   "source": [
    "## Stage 6 - load the model"
   ]
  },
  {
   "cell_type": "code",
   "execution_count": 17,
   "metadata": {
    "deletable": false,
    "name": "mltkc_load"
   },
   "outputs": [],
   "source": [
    "# load model from name in expected convention \"<algo_name>_<model_name>\"\n",
    "def load(name):\n",
    "    model = {}\n",
    "    with open(MODEL_DIRECTORY + name + \".json\", 'r') as file:\n",
    "        model = json.load(file)\n",
    "    return model"
   ]
  },
  {
   "cell_type": "markdown",
   "metadata": {},
   "source": [
    "## Stage 7 - provide a summary of the model"
   ]
  },
  {
   "cell_type": "code",
   "execution_count": 11,
   "metadata": {
    "deletable": false,
    "name": "mltkc_summary"
   },
   "outputs": [],
   "source": [
    "# return a model summary\n",
    "def summary(model=None):\n",
    "    returns = {\"version\": {\"numpy\": np.__version__, \"pandas\": pd.__version__} }\n",
    "    return returns\n",
    "\n",
    "def compute(model,df,param):\n",
    "    try:\n",
    "        query = param['options']['params']['prompt'].strip('\\\"')\n",
    "    except:\n",
    "        result = pd.DataFrame({'Message': \"ERROR: Please input a parameter \\'prompt\\'.\"})\n",
    "        return result\n",
    "    # Case of only two functions. Please customize for your own functions\n",
    "    try:\n",
    "        func1 = int(param['options']['params']['func1'])\n",
    "        func2 = int(param['options']['params']['func2'])\n",
    "    except:\n",
    "        func1 = 1\n",
    "        func2 = 1\n",
    "        \n",
    "    tool_list = []\n",
    "\n",
    "    if func1:\n",
    "        tool_list.append(search_splunk_tool)\n",
    "    if func2:\n",
    "        tool_list.append(search_record_from_vector_db_tool)\n",
    "\n",
    "    try:\n",
    "        service = param['options']['params']['llm_service'].strip(\"\\\"\")\n",
    "        print(f\"Using {service} LLM service.\")\n",
    "    except:\n",
    "        service = \"ollama\"\n",
    "        print(\"Using default Ollama LLM service.\")\n",
    "\n",
    "    try:\n",
    "        model_name = param['options']['params']['model_name'].strip(\"\\\"\")\n",
    "    except:\n",
    "        model_name = None\n",
    "        print(\"No model name specified\")\n",
    "        \n",
    "    llm, m = create_llm(service=service, model=model_name)\n",
    "\n",
    "    if llm is None:\n",
    "        cols={'Message': [m]}\n",
    "        returns=pd.DataFrame(data=cols)\n",
    "        return returns\n",
    "\n",
    "    \n",
    "    worker = ReActAgentWorker.from_tools(tool_list, llm=llm)\n",
    "    agent = AgentRunner(worker)     \n",
    "    response = agent.chat(query)\n",
    "    \n",
    "    cols = {\"Response\": [response.response]}\n",
    "    for i in range(len(response.sources)):\n",
    "        if response.sources[i].tool_name != \"unknown\":\n",
    "            cols[response.sources[i].tool_name] = [response.sources[i].content]\n",
    "    result = pd.DataFrame(data=cols)\n",
    "    return result"
   ]
  },
  {
   "cell_type": "markdown",
   "metadata": {},
   "source": [
    "After implementing your fit, apply, save and load you can train your model:<br>\n",
    "| makeresults count=10<br>\n",
    "| streamstats c as i<br>\n",
    "| eval s = i%3<br>\n",
    "| eval feature_{s}=0<br>\n",
    "| foreach feature_* [eval &lt;&lt;FIELD&gt;&gt;=random()/pow(2,31)]<br>\n",
    "| fit MLTKContainer algo=barebone s from feature_* into app:barebone_model<br>"
   ]
  },
  {
   "cell_type": "markdown",
   "metadata": {},
   "source": [
    "Or apply your model:<br>\n",
    "| makeresults count=10<br>\n",
    "| streamstats c as i<br>\n",
    "| eval s = i%3<br>\n",
    "| eval feature_{s}=0<br>\n",
    "| foreach feature_* [eval &lt;&lt;FIELD&gt;&gt;=random()/pow(2,31)]<br>\n",
    "| apply barebone_model as the_meaning_of_life"
   ]
  },
  {
   "cell_type": "markdown",
   "metadata": {},
   "source": [
    "## Send data back to Splunk HEC\n",
    "When you configured the Splunk HEC Settings in the DSDL app you can easily send back data to an index with [Splunk's HTTP Event Collector (HEC)](https://docs.splunk.com/Documentation/Splunk/latest/Data/UsetheHTTPEventCollector). Read more about data formats and options in the [documentation](https://docs.splunk.com/Documentation/Splunk/latest/Data/FormateventsforHTTPEventCollector#Event_metadata).\n",
    "\n",
    "### Use cases\n",
    "- you want to offload longer running, possibly distributed computations that need to deliver results asynchroneously back into Splunk. \n",
    "- you might not want to present results back into the search pipeline after your `| fit` or `| apply` command. \n",
    "- you can easily utilize this approach for any logging purposes or other profiling tasks in your ML code so you can actively monitor and analyze your processes.\n",
    "\n",
    "### Example"
   ]
  },
  {
   "cell_type": "code",
   "execution_count": 18,
   "metadata": {},
   "outputs": [],
   "source": [
    "from dsdlsupport import SplunkHEC as SplunkHEC\n",
    "hec = SplunkHEC.SplunkHEC()"
   ]
  },
  {
   "cell_type": "code",
   "execution_count": 19,
   "metadata": {},
   "outputs": [],
   "source": [
    "# example to send 10 hello world events\n",
    "response = hec.send_hello_world(10)"
   ]
  },
  {
   "cell_type": "code",
   "execution_count": 20,
   "metadata": {},
   "outputs": [
    {
     "name": "stdout",
     "output_type": "stream",
     "text": [
      "HEC endpoint http://host.docker.internal:8088/services/collector/event \n",
      "returned with status code 200 \n",
      "and response message: {\"text\":\"Success\",\"code\":0}\n"
     ]
    }
   ],
   "source": [
    "print(\"HEC endpoint %s \\nreturned with status code %s \\nand response message: %s\" % (response.url, response.status_code, response.text))"
   ]
  },
  {
   "cell_type": "code",
   "execution_count": 21,
   "metadata": {},
   "outputs": [],
   "source": [
    "# example to send a JSON object, e.g. to log some data\n",
    "from datetime import datetime\n",
    "response = hec.send({'event': {'message': 'operation done', 'log_level': 'INFO' }, 'time': datetime.now().timestamp()})"
   ]
  },
  {
   "cell_type": "code",
   "execution_count": 22,
   "metadata": {},
   "outputs": [
    {
     "name": "stdout",
     "output_type": "stream",
     "text": [
      "HEC endpoint http://host.docker.internal:8088/services/collector/event \n",
      "returned with status code 200 \n",
      "and response message: {\"text\":\"Success\",\"code\":0}\n"
     ]
    }
   ],
   "source": [
    "print(\"HEC endpoint %s \\nreturned with status code %s \\nand response message: %s\" % (response.url, response.status_code, response.text))"
   ]
  },
  {
   "cell_type": "markdown",
   "metadata": {},
   "source": [
    "## End of Stages\n",
    "All subsequent cells are not tagged and can be used for further freeform code"
   ]
  },
  {
   "cell_type": "code",
   "execution_count": null,
   "metadata": {},
   "outputs": [],
   "source": []
  },
  {
   "cell_type": "code",
   "execution_count": null,
   "metadata": {},
   "outputs": [],
   "source": []
  }
 ],
 "metadata": {
  "kernelspec": {
   "display_name": "Python 3 (ipykernel)",
   "language": "python",
   "name": "python3"
  },
  "language_info": {
   "codemirror_mode": {
    "name": "ipython",
    "version": 3
   },
   "file_extension": ".py",
   "mimetype": "text/x-python",
   "name": "python",
   "nbconvert_exporter": "python",
   "pygments_lexer": "ipython3",
   "version": "3.9.21"
  }
 },
 "nbformat": 4,
 "nbformat_minor": 4
}
