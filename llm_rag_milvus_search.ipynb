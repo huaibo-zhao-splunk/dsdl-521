{
 "cells": [
  {
   "cell_type": "markdown",
   "metadata": {},
   "source": [
    "# Milvus Similarity Search for encoded logs"
   ]
  },
  {
   "cell_type": "markdown",
   "metadata": {},
   "source": [
    "Example Usage: | search ... | table text\n",
    "| fit MLTKContainer algo=llm_rag_milvus_search collection_name=notable_events_384_transformers embedder_name=\"all-MiniLM-L6-v2\" use_local=1 top_k=5 text into app:llm_rag_milvus_search\n",
    "| table text predicted_Results predicted_Fields\n",
    "| eval predicted_Results=split(predicted_Results,\"|\"), predicted_Fields=split(predicted_Fields,\"|\")\n",
    "| mvexpand predicted_Results\n",
    "| mvexpand predicted_Fields\n",
    "| dedup predicted_Results"
   ]
  },
  {
   "cell_type": "markdown",
   "metadata": {},
   "source": [
    "Note: By default every time you save this notebook the stages main cells are exported into a python module which can then get invoked by Splunk's MLTK SPL commands like <code> | fit ... | apply ... | summary </code>. Please read the Model Development Guide in the DSDL app for more information about this workflow."
   ]
  },
  {
   "cell_type": "markdown",
   "metadata": {},
   "source": [
    "## Stage 0 - import libraries\n",
    "At stage 0 we define all imports necessary to run our subsequent code depending on various libraries."
   ]
  },
  {
   "cell_type": "code",
   "execution_count": 5,
   "metadata": {
    "deletable": false,
    "name": "mltkc_import"
   },
   "outputs": [],
   "source": [
    "# this definition exposes all python module imports that should be available in all subsequent commands\n",
    "import json\n",
    "import numpy as np\n",
    "import pandas as pd\n",
    "import os\n",
    "import time\n",
    "import pymilvus\n",
    "from pymilvus import (\n",
    "    connections,\n",
    "    utility,\n",
    "    FieldSchema, CollectionSchema, DataType,\n",
    "    Collection,\n",
    ")\n",
    "from llama_index.embeddings.huggingface import HuggingFaceEmbedding\n",
    "# ...\n",
    "# global constants\n",
    "MODEL_DIRECTORY = \"/srv/app/model/data/\""
   ]
  },
  {
   "cell_type": "code",
   "execution_count": 2,
   "metadata": {},
   "outputs": [
    {
     "name": "stdout",
     "output_type": "stream",
     "text": [
      "numpy version: 1.26.4\n",
      "pandas version: 2.2.0\n"
     ]
    }
   ],
   "source": [
    "# THIS CELL IS NOT EXPORTED - free notebook cell for testing or development purposes\n",
    "print(\"numpy version: \" + np.__version__)\n",
    "print(\"pandas version: \" + pd.__version__)"
   ]
  },
  {
   "cell_type": "code",
   "execution_count": 3,
   "metadata": {
    "deletable": false,
    "name": "mltkc_stage"
   },
   "outputs": [],
   "source": [
    "# this cell is not executed from MLTK and should only be used for staging data into the notebook environment\n",
    "def stage(name):\n",
    "    with open(\"data/\"+name+\".csv\", 'r') as f:\n",
    "        df = pd.read_csv(f)\n",
    "    with open(\"data/\"+name+\".json\", 'r') as f:\n",
    "        param = json.load(f)\n",
    "    return df, param"
   ]
  },
  {
   "cell_type": "code",
   "execution_count": 4,
   "metadata": {},
   "outputs": [],
   "source": [
    "df, param = stage('llm_rag_milvus_search')"
   ]
  },
  {
   "cell_type": "markdown",
   "metadata": {},
   "source": [
    "## Stage 2 - create and initialize a model"
   ]
  },
  {
   "cell_type": "code",
   "execution_count": 3,
   "metadata": {
    "deletable": false,
    "name": "mltkc_init"
   },
   "outputs": [],
   "source": [
    "# initialize your model\n",
    "# available inputs: data and parameters\n",
    "# returns the model object which will be used as a reference to call fit, apply and summary subsequently\n",
    "def init(df,param):\n",
    "    model = {}\n",
    "        \n",
    "    pk_type=DataType.VARCHAR        \n",
    "    embedding_type=DataType.FLOAT_VECTOR\n",
    "    \n",
    "    try:\n",
    "        collection_name=param['options']['params']['collection_name'].strip('\\\"')\n",
    "    except:\n",
    "        collection_name=\"default_collection\"\n",
    "        print(\"Using default collection\")\n",
    "    \n",
    "    print(\"start connecting to Milvus\")\n",
    "    # this hostname may need changing to a specific local docker network ip address depending on docker configuration\n",
    "    connections.connect(\"default\", host=\"milvus-standalone\", port=\"19530\")\n",
    "\n",
    "    collection_exists = utility.has_collection(collection_name)\n",
    "    \n",
    "    if collection_exists:\n",
    "        print(f\"The collection {collection_name} already exists\")\n",
    "        collection = Collection(collection_name)\n",
    "        collection.load()\n",
    "    else:\n",
    "        print(f\"The collection {collection_name} does not exist\")\n",
    "        raise Exception(\"The collection {collection_name} does not exist. Create it by sending data to a collection with that name using the push_to_milvus algo.\")\n",
    "    \n",
    "    model['collection']=collection\n",
    "    model['collection_name']=collection_name\n",
    "    return model"
   ]
  },
  {
   "cell_type": "code",
   "execution_count": null,
   "metadata": {
    "scrolled": true
   },
   "outputs": [],
   "source": [
    "# THIS CELL IS NOT EXPORTED - free notebook cell for testing or development purposes\n",
    "model = init(df,param)\n",
    "print(model)"
   ]
  },
  {
   "cell_type": "markdown",
   "metadata": {},
   "source": [
    "## Stage 3 - fit the model"
   ]
  },
  {
   "cell_type": "code",
   "execution_count": 12,
   "metadata": {
    "deletable": false,
    "name": "mltkc_fit"
   },
   "outputs": [],
   "source": [
    "# train your model\n",
    "# returns a fit info json object and may modify the model object\n",
    "def fit(model,df,param):\n",
    "    # model.fit()\n",
    "    info = {\"message\": \"model trained\"}\n",
    "    return info"
   ]
  },
  {
   "cell_type": "code",
   "execution_count": 13,
   "metadata": {},
   "outputs": [
    {
     "name": "stdout",
     "output_type": "stream",
     "text": [
      "{'message': 'model trained'}\n"
     ]
    }
   ],
   "source": [
    "# THIS CELL IS NOT EXPORTED - free notebook cell for testing or development purposes\n",
    "print(fit(model,df,param))"
   ]
  },
  {
   "cell_type": "markdown",
   "metadata": {},
   "source": [
    "## Stage 4 - apply the model"
   ]
  },
  {
   "cell_type": "code",
   "execution_count": 13,
   "metadata": {
    "deletable": false,
    "name": "mltkc_apply"
   },
   "outputs": [],
   "source": [
    "# apply your model\n",
    "# returns the calculated results\n",
    "def apply(model,df,param):\n",
    "    try:\n",
    "        use_local= int(param['options']['params']['use_local'])\n",
    "    except:\n",
    "        use_local = 0\n",
    "        print(\"Downloading embedding model by default\") \n",
    "        \n",
    "    try:\n",
    "        embedder_name=param['options']['params']['embedder_name'].strip('\\\"')\n",
    "    except:\n",
    "        embedder_name = 'all-MiniLM-L6-v2'\n",
    "        print(\"Using all-MiniLM-L6-v2 as embedding model by default\") \n",
    "        \n",
    "    if use_local:\n",
    "        embedder_name = f'/srv/app/model/data/{embedder_name}'\n",
    "        print(\"Using local embedding model checkpoints\") \n",
    "\n",
    "    try:\n",
    "        transformer_embedder = HuggingFaceEmbedding(model_name=embedder_name)\n",
    "    except Exception as e:\n",
    "        cols = {\"Results\": [f\"Failed to load embedding model. ERROR: {e}\"]}\n",
    "        returns = pd.DataFrame(data=cols)\n",
    "        return returns\n",
    "    \n",
    "    try:\n",
    "       top_k=int(param['options']['params']['top_k'])\n",
    "    except:\n",
    "        top_k=5\n",
    "        print(\"Using top 5 results by default\")\n",
    "        \n",
    "    try:\n",
    "        splitter=param['options']['params']['splitter']\n",
    "    except:\n",
    "        splitter=\"|\"\n",
    "    \n",
    "    try:\n",
    "        text_column = df['text'].astype(str).tolist()\n",
    "    except Exception as e:\n",
    "        cols = {\"Results\": [f\"Failed to read input data. ERROR: {e}. Make sure you have an input field called text\"]}\n",
    "        returns = pd.DataFrame(data=cols)\n",
    "        return returns\n",
    "    try:\n",
    "        vector_column = []\n",
    "        for text in text_column:\n",
    "            vector_column.append(transformer_embedder.get_text_embedding(text))\n",
    "        \n",
    "        search_params = {\n",
    "            \"metric_type\": \"L2\",\n",
    "            \"params\": {\"nprobe\": 10},\n",
    "        }\n",
    "        output_fields = [item.name for item in model['collection'].schema.fields]\n",
    "        output_fields.remove('embeddings')\n",
    "        results = model['collection'].search(data=vector_column, anns_field=\"embeddings\", param=search_params, limit=top_k, output_fields=output_fields)\n",
    "        l = []\n",
    "        f = []\n",
    "        d = []\n",
    "        output_fields.remove('label')\n",
    "        for result in results:\n",
    "            x = ''\n",
    "            y = ''\n",
    "            z = ''\n",
    "            for r in result:\n",
    "                t = {}\n",
    "                for field in output_fields:\n",
    "                    t[field] = r.entity.get(field)\n",
    "                x += str(t)\n",
    "                x += splitter\n",
    "                y += r.entity.get('label')\n",
    "                y += splitter\n",
    "                z += str(round(r.distance,4))\n",
    "                z += splitter\n",
    "            xs = x.rstrip(splitter)\n",
    "            ys = y.rstrip(splitter)\n",
    "            zs = z.rstrip(splitter)\n",
    "            l.append(ys) \n",
    "            f.append(xs)\n",
    "            d.append(zs)\n",
    "    except Exception as e:\n",
    "        cols = {\"Results\": [f\"Failed to conduct vectorsearch. ERROR: {e}\"]}\n",
    "        returns = pd.DataFrame(data=cols)\n",
    "        return returns\n",
    "    \n",
    "    \n",
    "    cols = {\"Results\": l, \"Fields\": f, \"Distance\": d}\n",
    "    returns = pd.DataFrame(data=cols)\n",
    "    return returns"
   ]
  },
  {
   "cell_type": "code",
   "execution_count": null,
   "metadata": {},
   "outputs": [],
   "source": [
    "# THIS CELL IS NOT EXPORTED - free notebook cell for testing or development purposes\n",
    "print(apply(model,df,param))"
   ]
  },
  {
   "cell_type": "markdown",
   "metadata": {},
   "source": [
    "## Stage 5 - save the model"
   ]
  },
  {
   "cell_type": "code",
   "execution_count": 16,
   "metadata": {
    "deletable": false,
    "name": "mltkc_save"
   },
   "outputs": [],
   "source": [
    "# save model to name in expected convention \"<algo_name>_<model_name>\"\n",
    "def save(model,name):\n",
    "    model = {}\n",
    "    with open(MODEL_DIRECTORY + name + \".json\", 'w') as file:\n",
    "        json.dump(model, file)\n",
    "    return model"
   ]
  },
  {
   "cell_type": "markdown",
   "metadata": {},
   "source": [
    "## Stage 6 - load the model"
   ]
  },
  {
   "cell_type": "code",
   "execution_count": 17,
   "metadata": {
    "deletable": false,
    "name": "mltkc_load"
   },
   "outputs": [],
   "source": [
    "# load model from name in expected convention \"<algo_name>_<model_name>\"\n",
    "def load(name):\n",
    "    model = {}\n",
    "    with open(MODEL_DIRECTORY + name + \".json\", 'r') as file:\n",
    "        model = json.load(file)\n",
    "    return model"
   ]
  },
  {
   "cell_type": "markdown",
   "metadata": {},
   "source": [
    "## Stage 7 - provide a summary of the model"
   ]
  },
  {
   "cell_type": "code",
   "execution_count": 18,
   "metadata": {
    "deletable": false,
    "name": "mltkc_summary"
   },
   "outputs": [],
   "source": [
    "# return a model summary\n",
    "def summary(model=None):\n",
    "    returns = {\"version\": {\"numpy\": np.__version__, \"pandas\": pd.__version__} }\n",
    "    return returns\n",
    "\n",
    "def compute(model,df,param):\n",
    "    try:\n",
    "        use_local= int(param['options']['params']['use_local'])\n",
    "    except:\n",
    "        use_local = 0\n",
    "        print(\"Downloading embedding model by default\") \n",
    "        \n",
    "    try:\n",
    "        embedder_name=param['options']['params']['embedder_name'].strip('\\\"')\n",
    "    except:\n",
    "        embedder_name = 'all-MiniLM-L6-v2'\n",
    "        print(\"Using all-MiniLM-L6-v2 as embedding model by default\") \n",
    "        \n",
    "    if use_local:\n",
    "        embedder_name = f'/srv/app/model/data/{embedder_name}'\n",
    "        print(\"Using local embedding model checkpoints\") \n",
    "\n",
    "    try:\n",
    "        transformer_embedder = HuggingFaceEmbedding(model_name=embedder_name)\n",
    "    except Exception as e:\n",
    "        cols = {\"Results\": [f\"Failed to load embedding model. ERROR: {e}\"]}\n",
    "        returns = pd.DataFrame(data=cols)\n",
    "        return returns\n",
    "    \n",
    "    try:\n",
    "       top_k=int(param['options']['params']['top_k'])\n",
    "    except:\n",
    "        top_k=5\n",
    "        print(\"Using top 5 results by default\")\n",
    "        \n",
    "    try:\n",
    "        splitter=param['options']['params']['splitter']\n",
    "    except:\n",
    "        splitter=\"|\"\n",
    "    \n",
    "    try:\n",
    "        text_column = df['text'].astype(str).tolist()\n",
    "    except Exception as e:\n",
    "        cols = {\"Results\": [f\"Failed to read input data. ERROR: {e}. Make sure you have an input field called text\"]}\n",
    "        returns = pd.DataFrame(data=cols)\n",
    "        return returns\n",
    "    try:\n",
    "        vector_column = []\n",
    "        for text in text_column:\n",
    "            vector_column.append(transformer_embedder.get_text_embedding(text))\n",
    "        \n",
    "        search_params = {\n",
    "            \"metric_type\": \"L2\",\n",
    "            \"params\": {\"nprobe\": 10},\n",
    "        }\n",
    "        output_fields = [item.name for item in model['collection'].schema.fields]\n",
    "        output_fields.remove('embeddings')\n",
    "        results = model['collection'].search(data=vector_column, anns_field=\"embeddings\", param=search_params, limit=top_k, output_fields=output_fields)\n",
    "        l = []\n",
    "        f = []\n",
    "        d = []\n",
    "        output_fields.remove('label')\n",
    "        for result in results:\n",
    "            x = ''\n",
    "            y = ''\n",
    "            z = ''\n",
    "            for r in result:\n",
    "                t = {}\n",
    "                for field in output_fields:\n",
    "                    t[field] = r.entity.get(field)\n",
    "                x += str(t)\n",
    "                x += splitter\n",
    "                y += r.entity.get('label')\n",
    "                y += splitter\n",
    "                z += str(round(r.distance,4))\n",
    "                z += splitter\n",
    "            xs = x.rstrip(splitter)\n",
    "            ys = y.rstrip(splitter)\n",
    "            zs = z.rstrip(splitter)\n",
    "            l.append(ys) \n",
    "            f.append(xs)\n",
    "            d.append(zs)\n",
    "    except Exception as e:\n",
    "        cols = {\"Results\": [f\"Failed to conduct vectorsearch. ERROR: {e}\"]}\n",
    "        returns = pd.DataFrame(data=cols)\n",
    "        return returns\n",
    "    \n",
    "    \n",
    "    cols = {\"Results\": l, \"Fields\": f, \"Distance\": d}\n",
    "    returns = pd.DataFrame(data=cols)\n",
    "    return returns"
   ]
  },
  {
   "cell_type": "markdown",
   "metadata": {},
   "source": [
    "After implementing your fit, apply, save and load you can train your model:<br>\n",
    "| makeresults count=10<br>\n",
    "| streamstats c as i<br>\n",
    "| eval s = i%3<br>\n",
    "| eval feature_{s}=0<br>\n",
    "| foreach feature_* [eval &lt;&lt;FIELD&gt;&gt;=random()/pow(2,31)]<br>\n",
    "| fit MLTKContainer algo=barebone s from feature_* into app:barebone_model<br>"
   ]
  },
  {
   "cell_type": "markdown",
   "metadata": {},
   "source": [
    "Or apply your model:<br>\n",
    "| makeresults count=10<br>\n",
    "| streamstats c as i<br>\n",
    "| eval s = i%3<br>\n",
    "| eval feature_{s}=0<br>\n",
    "| foreach feature_* [eval &lt;&lt;FIELD&gt;&gt;=random()/pow(2,31)]<br>\n",
    "| apply barebone_model as the_meaning_of_life"
   ]
  },
  {
   "cell_type": "markdown",
   "metadata": {},
   "source": [
    "## Send data back to Splunk HEC\n",
    "When you configured the Splunk HEC Settings in the DSDL app you can easily send back data to an index with [Splunk's HTTP Event Collector (HEC)](https://docs.splunk.com/Documentation/Splunk/latest/Data/UsetheHTTPEventCollector). Read more about data formats and options in the [documentation](https://docs.splunk.com/Documentation/Splunk/latest/Data/FormateventsforHTTPEventCollector#Event_metadata).\n",
    "\n",
    "### Use cases\n",
    "- you want to offload longer running, possibly distributed computations that need to deliver results asynchroneously back into Splunk. \n",
    "- you might not want to present results back into the search pipeline after your `| fit` or `| apply` command. \n",
    "- you can easily utilize this approach for any logging purposes or other profiling tasks in your ML code so you can actively monitor and analyze your processes.\n",
    "\n",
    "### Example"
   ]
  },
  {
   "cell_type": "code",
   "execution_count": 18,
   "metadata": {},
   "outputs": [],
   "source": [
    "from dsdlsupport import SplunkHEC as SplunkHEC\n",
    "hec = SplunkHEC.SplunkHEC()"
   ]
  },
  {
   "cell_type": "code",
   "execution_count": 19,
   "metadata": {},
   "outputs": [],
   "source": [
    "# example to send 10 hello world events\n",
    "response = hec.send_hello_world(10)"
   ]
  },
  {
   "cell_type": "code",
   "execution_count": 20,
   "metadata": {},
   "outputs": [
    {
     "name": "stdout",
     "output_type": "stream",
     "text": [
      "HEC endpoint http://host.docker.internal:8088/services/collector/event \n",
      "returned with status code 200 \n",
      "and response message: {\"text\":\"Success\",\"code\":0}\n"
     ]
    }
   ],
   "source": [
    "print(\"HEC endpoint %s \\nreturned with status code %s \\nand response message: %s\" % (response.url, response.status_code, response.text))"
   ]
  },
  {
   "cell_type": "code",
   "execution_count": 21,
   "metadata": {},
   "outputs": [],
   "source": [
    "# example to send a JSON object, e.g. to log some data\n",
    "from datetime import datetime\n",
    "response = hec.send({'event': {'message': 'operation done', 'log_level': 'INFO' }, 'time': datetime.now().timestamp()})"
   ]
  },
  {
   "cell_type": "code",
   "execution_count": 22,
   "metadata": {},
   "outputs": [
    {
     "name": "stdout",
     "output_type": "stream",
     "text": [
      "HEC endpoint http://host.docker.internal:8088/services/collector/event \n",
      "returned with status code 200 \n",
      "and response message: {\"text\":\"Success\",\"code\":0}\n"
     ]
    }
   ],
   "source": [
    "print(\"HEC endpoint %s \\nreturned with status code %s \\nand response message: %s\" % (response.url, response.status_code, response.text))"
   ]
  },
  {
   "cell_type": "markdown",
   "metadata": {},
   "source": [
    "## End of Stages\n",
    "All subsequent cells are not tagged and can be used for further freeform code"
   ]
  },
  {
   "cell_type": "code",
   "execution_count": null,
   "metadata": {},
   "outputs": [],
   "source": []
  },
  {
   "cell_type": "code",
   "execution_count": null,
   "metadata": {},
   "outputs": [],
   "source": []
  }
 ],
 "metadata": {
  "kernelspec": {
   "display_name": "Python 3 (ipykernel)",
   "language": "python",
   "name": "python3"
  },
  "language_info": {
   "codemirror_mode": {
    "name": "ipython",
    "version": 3
   },
   "file_extension": ".py",
   "mimetype": "text/x-python",
   "name": "python",
   "nbconvert_exporter": "python",
   "pygments_lexer": "ipython3",
   "version": "3.9.21"
  }
 },
 "nbformat": 4,
 "nbformat_minor": 4
}
